{
 "cells": [
  {
   "cell_type": "markdown",
   "metadata": {},
   "source": [
    "# Постановка задачи"
   ]
  },
  {
   "cell_type": "markdown",
   "metadata": {},
   "source": [
    "Задача теплопроводности на отрезке $[0, 1]$:\n",
    "$$\n",
    "\\begin{cases}\n",
    "\\frac{\\partial u}{\\partial t} = \\mu \\frac{\\partial^2 u}{\\partial x^2}, x \\in [0, 1], t \\in [0, T] \\\\\n",
    "u(x, 0) = u_0(x),  x \\in [0, 1] \\\\\n",
    "u(0, t) = \\varphi_1(t), t \\in [0, T] \\\\\n",
    "u(1, t) = \\varphi_2(t), t \\in [0, T] \\\\\n",
    "\\end{cases}\n",
    "$$\n",
    "\n",
    "Цель - определить $u(x, T)$."
   ]
  },
  {
   "cell_type": "markdown",
   "metadata": {},
   "source": [
    "# Программа"
   ]
  },
  {
   "cell_type": "markdown",
   "metadata": {},
   "source": [
    "Начальные условия $u_0(x)$"
   ]
  },
  {
   "cell_type": "code",
   "execution_count": 1,
   "metadata": {},
   "outputs": [],
   "source": [
    "def u0(x):\n",
    "\treturn 1.0 - (x-0.5)**2"
   ]
  },
  {
   "cell_type": "markdown",
   "metadata": {},
   "source": [
    "Граничные условия $\\varphi_1(x)$, $\\varphi_2(x)$"
   ]
  },
  {
   "cell_type": "code",
   "execution_count": 2,
   "metadata": {},
   "outputs": [],
   "source": [
    "def phi1(t):\n",
    "\treturn 0.0\n",
    "def phi2(t):\n",
    "\treturn 0.0"
   ]
  },
  {
   "cell_type": "markdown",
   "metadata": {},
   "source": [
    "Параметры задачи: $\\mu$ - коэффициент теплопроводности, $T$ - время искомого распределения температуры"
   ]
  },
  {
   "cell_type": "code",
   "execution_count": 3,
   "metadata": {},
   "outputs": [],
   "source": [
    "mu = 0.1\n",
    "T = 1.0"
   ]
  },
  {
   "cell_type": "markdown",
   "metadata": {},
   "source": [
    "Сетка по пространству"
   ]
  },
  {
   "cell_type": "code",
   "execution_count": 4,
   "metadata": {},
   "outputs": [],
   "source": [
    "n = 10\n",
    "h = 1.0 / n\n",
    "x = [i * h for i in range(0, n + 1)]"
   ]
  },
  {
   "cell_type": "markdown",
   "metadata": {},
   "source": [
    "Сетка по времени"
   ]
  },
  {
   "cell_type": "code",
   "execution_count": 5,
   "metadata": {},
   "outputs": [],
   "source": [
    "m = 50\n",
    "tau = T / m\n",
    "t = [k * tau for k in range(0, m + 1)]"
   ]
  },
  {
   "cell_type": "markdown",
   "metadata": {},
   "source": [
    "Условие устойчивости"
   ]
  },
  {
   "cell_type": "code",
   "execution_count": 6,
   "metadata": {},
   "outputs": [
    {
     "name": "stdout",
     "output_type": "stream",
     "text": [
      "0.02 0.1 0.39999999999999997\n"
     ]
    }
   ],
   "source": [
    "r = 2 * mu * tau / h / h\n",
    "print(tau, h, r)"
   ]
  },
  {
   "cell_type": "markdown",
   "metadata": {},
   "source": [
    "Инициализация начального слоя"
   ]
  },
  {
   "cell_type": "code",
   "execution_count": 7,
   "metadata": {},
   "outputs": [],
   "source": [
    "y = [u0(x[i]) for i in range(0, n + 1)]\n",
    "for i in range(0, n + 1):\n",
    "\ty[i] = u0(x[i])"
   ]
  },
  {
   "cell_type": "markdown",
   "metadata": {},
   "source": [
    "Счет"
   ]
  },
  {
   "cell_type": "code",
   "execution_count": 8,
   "metadata": {},
   "outputs": [],
   "source": [
    "ynew = [0] * (n + 1)\n",
    "for k in range(0, m):\n",
    "\ty[0] = phi1(t[k])\n",
    "\ty[n] = phi2(t[k])\n",
    "\tfor i in range(1, n):\n",
    "\t\tynew[i] = y[i] + tau * mu / h / h * (y[i+1] - 2 * y[i] + y[i-1])\n",
    "\ty = list(ynew)"
   ]
  },
  {
   "cell_type": "markdown",
   "metadata": {},
   "source": [
    "Вывод"
   ]
  },
  {
   "cell_type": "code",
   "execution_count": 9,
   "metadata": {},
   "outputs": [
    {
     "name": "stdout",
     "output_type": "stream",
     "text": [
      "[0.0, 0.1, 0.2, 0.30000000000000004, 0.4, 0.5, 0.6000000000000001, 0.7000000000000001, 0.8, 0.9, 1.0]\n",
      "[0, 0.1385966315820913, 0.2636046188318708, 0.36278347445281206, 0.4264422136560791, 0.44837368574758446, 0.4264422136560791, 0.36278347445281206, 0.2636046188318708, 0.1385966315820913, 0]\n"
     ]
    }
   ],
   "source": [
    "print(x)\n",
    "print(y)"
   ]
  },
  {
   "cell_type": "markdown",
   "metadata": {},
   "source": [
    "# Графика"
   ]
  },
  {
   "cell_type": "code",
   "execution_count": 10,
   "metadata": {},
   "outputs": [
    {
     "data": {
      "image/png": "[encoded data removed]",
      "text/plain": [
       "<Figure size 432x288 with 1 Axes>"
      ]
     },
     "metadata": {},
     "output_type": "display_data"
    }
   ],
   "source": [
    "import matplotlib.pyplot as plt\n",
    "%matplotlib inline\n",
    "lines = plt.plot(x, y)"
   ]
  },
  {
   "cell_type": "code",
   "execution_count": null,
   "metadata": {},
   "outputs": [],
   "source": []
  }
 ],
 "metadata": {
  "kernelspec": {
   "display_name": "Python 3",
   "language": "python",
   "name": "python3"
  },
  "language_info": {
   "codemirror_mode": {
    "name": "ipython",
    "version": 3
   },
   "file_extension": ".py",
   "mimetype": "text/x-python",
   "name": "python",
   "nbconvert_exporter": "python",
   "pygments_lexer": "ipython3",
   "version": "3.6.5"
  }
 },
 "nbformat": 4,
 "nbformat_minor": 2
}
